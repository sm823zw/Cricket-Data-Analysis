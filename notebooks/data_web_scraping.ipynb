{
 "cells": [
  {
   "cell_type": "code",
   "execution_count": 1,
   "metadata": {},
   "outputs": [],
   "source": [
    "import pandas as pd\n",
    "import tqdm"
   ]
  },
  {
   "cell_type": "code",
   "execution_count": 2,
   "metadata": {},
   "outputs": [],
   "source": [
    "url = 'https://stats.espncricinfo.com/ci/engine/stats/index.html?class={};home_or_away=1;home_or_away=2;home_or_away=3;page={};result=1;result=2;result=3;result=4;template=results;type={}'"
   ]
  },
  {
   "cell_type": "code",
   "execution_count": 3,
   "metadata": {},
   "outputs": [],
   "source": [
    "def scrap_data(formatt, style, n_pages):\n",
    "    data = []\n",
    "    for page in tqdm.tqdm(range(1, n_pages)):\n",
    "        new_url = url.format(formatt, page, style)\n",
    "        df = pd.read_html(new_url)[2]\n",
    "        data.append(df)\n",
    "    data_ = pd.concat(data)\n",
    "    return data_"
   ]
  },
  {
   "cell_type": "code",
   "execution_count": 4,
   "metadata": {},
   "outputs": [
    {
     "name": "stderr",
     "output_type": "stream",
     "text": [
      "100%|██████████| 61/61 [02:12<00:00,  2.17s/it]\n"
     ]
    },
    {
     "name": "stdout",
     "output_type": "stream",
     "text": [
      "1/9 done...\n"
     ]
    },
    {
     "name": "stderr",
     "output_type": "stream",
     "text": [
      "100%|██████████| 61/61 [02:24<00:00,  2.37s/it]\n"
     ]
    },
    {
     "name": "stdout",
     "output_type": "stream",
     "text": [
      "2/9 done...\n"
     ]
    },
    {
     "name": "stderr",
     "output_type": "stream",
     "text": [
      "100%|██████████| 57/57 [02:01<00:00,  2.13s/it]\n"
     ]
    },
    {
     "name": "stdout",
     "output_type": "stream",
     "text": [
      "3/9 done...\n"
     ]
    },
    {
     "name": "stderr",
     "output_type": "stream",
     "text": [
      "100%|██████████| 54/54 [02:27<00:00,  2.73s/it]\n"
     ]
    },
    {
     "name": "stdout",
     "output_type": "stream",
     "text": [
      "4/9 done...\n"
     ]
    },
    {
     "name": "stderr",
     "output_type": "stream",
     "text": [
      "100%|██████████| 54/54 [02:19<00:00,  2.58s/it]\n"
     ]
    },
    {
     "name": "stdout",
     "output_type": "stream",
     "text": [
      "5/9 done...\n"
     ]
    },
    {
     "name": "stderr",
     "output_type": "stream",
     "text": [
      "100%|██████████| 54/54 [02:15<00:00,  2.52s/it]\n"
     ]
    },
    {
     "name": "stdout",
     "output_type": "stream",
     "text": [
      "6/9 done...\n"
     ]
    },
    {
     "name": "stderr",
     "output_type": "stream",
     "text": [
      "100%|██████████| 52/52 [01:24<00:00,  1.62s/it]\n"
     ]
    },
    {
     "name": "stdout",
     "output_type": "stream",
     "text": [
      "7/9 done...\n"
     ]
    },
    {
     "name": "stderr",
     "output_type": "stream",
     "text": [
      "100%|██████████| 52/52 [01:22<00:00,  1.59s/it]\n"
     ]
    },
    {
     "name": "stdout",
     "output_type": "stream",
     "text": [
      "8/9 done...\n"
     ]
    },
    {
     "name": "stderr",
     "output_type": "stream",
     "text": [
      "100%|██████████| 52/52 [01:22<00:00,  1.58s/it]"
     ]
    },
    {
     "name": "stdout",
     "output_type": "stream",
     "text": [
      "9/9 done... Completed!\n"
     ]
    },
    {
     "name": "stderr",
     "output_type": "stream",
     "text": [
      "\n"
     ]
    }
   ],
   "source": [
    "test_batting_data = scrap_data(1, 'batting', 62)\n",
    "test_batting_data.to_csv('data/test_batting_data.csv')\n",
    "print('1/9 done...')\n",
    "test_bowling_data = scrap_data(1, 'bowling', 62)\n",
    "test_bowling_data.to_csv('data/test_bowling_data.csv')\n",
    "print('2/9 done...')\n",
    "test_fieling_data = scrap_data(1, 'fielding', 58)\n",
    "test_fieling_data.to_csv('data/test_fielding_data.csv')\n",
    "print('3/9 done...')\n",
    "odi_batting_data = scrap_data(2, 'batting', 55)\n",
    "odi_batting_data.to_csv('data/odi_batting_data.csv')\n",
    "print('4/9 done...')\n",
    "odi_bowling_data = scrap_data(2, 'bowling', 55)\n",
    "odi_bowling_data.to_csv('data/odi_bowling_data.csv')\n",
    "print('5/9 done...')\n",
    "odi_fielding_data = scrap_data(2, 'fielding', 55)\n",
    "odi_fielding_data.to_csv('data/odi_fielding_data.csv')\n",
    "print('6/9 done...')\n",
    "t20_batting_data = scrap_data(3, 'batting', 53)\n",
    "t20_batting_data.to_csv('data/t20_batting_data.csv')\n",
    "print('7/9 done...')\n",
    "t20_bowling_data = scrap_data(3, 'bowling', 53)\n",
    "t20_bowling_data.to_csv('data/t20_bowling_data.csv')\n",
    "print('8/9 done...')\n",
    "t20_fielding_data = scrap_data(3, 'fielding', 53)\n",
    "t20_fielding_data.to_csv('data/t20_fielding_data.csv')\n",
    "print('9/9 done... Completed!')"
   ]
  },
  {
   "cell_type": "code",
   "execution_count": null,
   "metadata": {},
   "outputs": [],
   "source": []
  },
  {
   "cell_type": "code",
   "execution_count": null,
   "metadata": {},
   "outputs": [],
   "source": []
  },
  {
   "cell_type": "code",
   "execution_count": null,
   "metadata": {},
   "outputs": [],
   "source": []
  },
  {
   "cell_type": "code",
   "execution_count": null,
   "metadata": {},
   "outputs": [],
   "source": []
  }
 ],
 "metadata": {
  "interpreter": {
   "hash": "ec7d137c6e0bfe5aec1849c5c512dd0bf44cf2eb2fae9fc2de49724729b3d6c6"
  },
  "kernelspec": {
   "display_name": "Python 3.7.11 64-bit ('torch1.7': conda)",
   "language": "python",
   "name": "python3"
  },
  "language_info": {
   "codemirror_mode": {
    "name": "ipython",
    "version": 3
   },
   "file_extension": ".py",
   "mimetype": "text/x-python",
   "name": "python",
   "nbconvert_exporter": "python",
   "pygments_lexer": "ipython3",
   "version": "3.7.11"
  },
  "orig_nbformat": 4
 },
 "nbformat": 4,
 "nbformat_minor": 2
}
